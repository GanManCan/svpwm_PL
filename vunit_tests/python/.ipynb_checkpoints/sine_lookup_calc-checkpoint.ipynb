{
 "cells": [
  {
   "cell_type": "code",
   "execution_count": 1,
   "id": "3a662106",
   "metadata": {},
   "outputs": [
    {
     "name": "stdout",
     "output_type": "stream",
     "text": [
      "Addr_min0:  0\n",
      "Addr_max0:  250\n",
      "Addr_min1:  251\n",
      "Addr_max1:  500\n",
      "Addr_min2:  501\n",
      "Addr_max2:  750\n",
      "Addr_min3:  751\n",
      "Addr_max3:  1000\n",
      "\n",
      "\n",
      "Index_min0:  0\n",
      "Index_max0:  250\n",
      "\n",
      "Index_min1:  249\n",
      "Index_max1:  0\n",
      "\n",
      "Index_min2:  1\n",
      "Index_max2:  250\n",
      "\n",
      "Index_min3:  249\n",
      "Index_max3:  0\n"
     ]
    }
   ],
   "source": [
    "table_size = 251 \n",
    "\n",
    "addr_min0 = 0\n",
    "addr_max0 = table_size-1\n",
    "index_min0 = 0\n",
    "index_max0 = table_size -1\n",
    "\n",
    "addr_min1 = table_size\n",
    "addr_max1 = 2*table_size-2\n",
    "\n",
    "index_min1 = 2*table_size - addr_min1 -2\n",
    "index_max1 = 2*table_size - addr_max1 -2\n",
    "\n",
    "addr_min2 = 2*table_size-1\n",
    "addr_max2 = 3*table_size-3\n",
    "\n",
    "index_min2 = addr_min2 - 2*table_size+2\n",
    "index_max2 = addr_max2 - 2*table_size+2\n",
    "\n",
    "addr_min3 = 3*table_size-2\n",
    "addr_max3 = 4*table_size-4\n",
    "\n",
    "index_min3 = 4*table_size - addr_min3-4\n",
    "index_max3 = 4*table_size - addr_max3-4\n",
    "\n",
    "print(\"Addr_min0: \", addr_min0)\n",
    "print(\"Addr_max0: \", addr_max0)\n",
    "print(\"Addr_min1: \", addr_min1)\n",
    "print(\"Addr_max1: \", addr_max1)\n",
    "print(\"Addr_min2: \", addr_min2)\n",
    "print(\"Addr_max2: \", addr_max2)\n",
    "print(\"Addr_min3: \", addr_min3)\n",
    "print(\"Addr_max3: \", addr_max3)\n",
    "\n",
    "print(\"\\n\\nIndex_min0: \", index_min0)\n",
    "print(\"Index_max0: \", index_max0)\n",
    "print(\"\\nIndex_min1: \", index_min1)\n",
    "print(\"Index_max1: \", index_max1)\n",
    "print(\"\\nIndex_min2: \", index_min2)\n",
    "print(\"Index_max2: \", index_max2)\n",
    "print(\"\\nIndex_min3: \", index_min3)\n",
    "print(\"Index_max3: \", index_max3)\n",
    "\n"
   ]
  },
  {
   "cell_type": "code",
   "execution_count": 2,
   "id": "7100a596",
   "metadata": {},
   "outputs": [
    {
     "data": {
      "text/plain": [
       "1000"
      ]
     },
     "execution_count": 2,
     "metadata": {},
     "output_type": "execute_result"
    }
   ],
   "source": [
    "table_size*4-4"
   ]
  },
  {
   "cell_type": "code",
   "execution_count": null,
   "id": "9e314ad8",
   "metadata": {},
   "outputs": [],
   "source": []
  }
 ],
 "metadata": {
  "kernelspec": {
   "display_name": "Python 3 (ipykernel)",
   "language": "python",
   "name": "python3"
  },
  "language_info": {
   "codemirror_mode": {
    "name": "ipython",
    "version": 3
   },
   "file_extension": ".py",
   "mimetype": "text/x-python",
   "name": "python",
   "nbconvert_exporter": "python",
   "pygments_lexer": "ipython3",
   "version": "3.10.2"
  }
 },
 "nbformat": 4,
 "nbformat_minor": 5
}
