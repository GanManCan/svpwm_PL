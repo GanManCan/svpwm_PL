{
 "cells": [
  {
   "cell_type": "code",
   "execution_count": 1,
   "id": "5f7a56f3",
   "metadata": {},
   "outputs": [],
   "source": [
    "import numpy as np\n",
    "import random"
   ]
  },
  {
   "cell_type": "code",
   "execution_count": 2,
   "id": "3ee652cd",
   "metadata": {},
   "outputs": [],
   "source": [
    "# Calculation constants \n",
    "sys_clk = 50_000_000 # in Hz\n",
    "pwm_freq = 3_000     # in Hz\n",
    "T = sys_clk/pwm_freq/2\n",
    "\n",
    "Vdc = 200"
   ]
  },
  {
   "cell_type": "code",
   "execution_count": 3,
   "id": "b29d183e",
   "metadata": {},
   "outputs": [],
   "source": [
    "def ftg_row_generator(v_alpha, v_beta):\n",
    "    newrow = np.zeros((1,5))\n",
    "    newrow[0,0] = v_alpha\n",
    "    newrow[0,1] = v_beta\n",
    "    \n",
    "    sector = ftg_sector_select(v_alpha,v_beta)\n",
    "    fu,fv,fw = ftg_sector_calcualtion(sector, v_alpha, v_beta)\n",
    "    newrow[0,2] = fu\n",
    "    newrow[0,3] = fv\n",
    "    newrow[0,4] = fw\n",
    "    \n",
    "    return newrow"
   ]
  },
  {
   "cell_type": "code",
   "execution_count": 4,
   "id": "95c6d337",
   "metadata": {},
   "outputs": [],
   "source": [
    "def ftg_sector_select(v_alpha, v_beta):\n",
    "    sqrt_3_v_alpha = np.sqrt(3)*v_alpha\n",
    "    sector = 0\n",
    "    \n",
    "    if(v_alpha >= 0 and 0 <= v_beta and v_beta <= sqrt_3_v_alpha):\n",
    "        sector = 1\n",
    "        return sector\n",
    "    \n",
    "    elif(v_beta >= 0 and v_beta >= abs(sqrt_3_v_alpha)):\n",
    "        sector = 2\n",
    "        return sector\n",
    "    \n",
    "    elif(v_alpha <= 0 and 0 <= v_beta and v_beta -1*sqrt_3_v_alpha):\n",
    "        sector = 3\n",
    "        return sector\n",
    "    \n",
    "    elif(v_alpha <= 0 and sqrt_3_v_alpha <= v_beta and v_beta < 0):\n",
    "        sector = 4\n",
    "        return sector\n",
    "    \n",
    "    elif(v_beta <= 0 and v_beta <= -1*abs(sqrt_3_v_alpha)):\n",
    "        sector = 5\n",
    "        return sector\n",
    "    \n",
    "    elif(v_alpha >= 0 and -1*sqrt_3_v_alpha <= v_beta and v_beta < 0):\n",
    "        sector = 6\n",
    "        return sector\n",
    "    \n",
    "    else:\n",
    "        sector = 0\n",
    "        return sector"
   ]
  },
  {
   "cell_type": "code",
   "execution_count": 5,
   "id": "cb76b989",
   "metadata": {},
   "outputs": [],
   "source": [
    "def ftg_sector_calcualtion(sector, v_alpha, v_beta):    \n",
    "    match sector:\n",
    "        case 1|2:\n",
    "            fu = T - np.sqrt(3)*T/Vdc*(np.sqrt(3)*v_alpha/2+v_beta/2)\n",
    "            fv = T - np.sqrt(3)*T*v_beta/Vdc\n",
    "            fw = T\n",
    "            return fu, fv, fw \n",
    "            \n",
    "        case 3|4:\n",
    "            fu = T\n",
    "            fv = T - np.sqrt(3)*T/Vdc*(-1*np.sqrt(3)*v_alpha/2 + v_beta/2)\n",
    "            fw = T - np.sqrt(3)*T/Vdc*(-1*np.sqrt(3)*v_alpha/2 - v_beta/2)\n",
    "            return fu, fv, fw\n",
    "        \n",
    "        case 5|6:\n",
    "            fu = T - np.sqrt(3)*T/Vdc*(np.sqrt(3)*v_alpha/2 - v_beta/2)\n",
    "            fv = T\n",
    "            fw = T + np.sqrt(3)*T*v_beta/Vdc           \n",
    "            return fu, fv, fw"
   ]
  },
  {
   "cell_type": "code",
   "execution_count": 6,
   "id": "0ae06a74",
   "metadata": {},
   "outputs": [],
   "source": [
    "def write_array_to_file(filePath, outArray):\n",
    "    np.savetxt(filePath, outArray, fmt='%.11f')"
   ]
  },
  {
   "cell_type": "code",
   "execution_count": 15,
   "id": "9408994f",
   "metadata": {},
   "outputs": [],
   "source": [
    "def generate_random_test_file(filePath, testCaseNum):\n",
    "    \n",
    "    # Initialize empty array\n",
    "    arr = np.empty((0,5))\n",
    "    \n",
    "    for x in range(0,testCaseNum):\n",
    "        v_alpha = random.uniform(-200,200)\n",
    "        v_beta  = random.uniform(-200,200)\n",
    "        tempRow = ftg_row_generator(v_alpha,v_beta)\n",
    "        arr = np.append(arr, tempRow, axis = 0)\n",
    "        \n",
    "    print(arr.shape)\n",
    "    write_array_to_file(filePath, arr)\n",
    "    return"
   ]
  },
  {
   "cell_type": "code",
   "execution_count": 23,
   "id": "7439ebae",
   "metadata": {},
   "outputs": [
    {
     "name": "stdout",
     "output_type": "stream",
     "text": [
      "(1000, 5)\n"
     ]
    }
   ],
   "source": [
    "# Action Block - Run this block to generate output files\n",
    "file_path = 'fire_time_generator_test_cases.txt'\n",
    "\n",
    "generate_random_test_file(file_path, 10000)\n",
    "\n"
   ]
  },
  {
   "cell_type": "code",
   "execution_count": 12,
   "id": "242f707d",
   "metadata": {},
   "outputs": [
    {
     "name": "stdout",
     "output_type": "stream",
     "text": [
      "(5,)\n"
     ]
    }
   ],
   "source": [
    "test = np.zeros(5)\n",
    "print(test.shape)"
   ]
  },
  {
   "cell_type": "code",
   "execution_count": 20,
   "id": "a8ad2e9c",
   "metadata": {},
   "outputs": [
    {
     "data": {
      "text/plain": [
       "0.060002400096003834"
      ]
     },
     "execution_count": 20,
     "metadata": {},
     "output_type": "execute_result"
    }
   ],
   "source": []
  },
  {
   "cell_type": "code",
   "execution_count": null,
   "id": "eb264cde",
   "metadata": {},
   "outputs": [],
   "source": []
  }
 ],
 "metadata": {
  "kernelspec": {
   "display_name": "Python 3 (ipykernel)",
   "language": "python",
   "name": "python3"
  },
  "language_info": {
   "codemirror_mode": {
    "name": "ipython",
    "version": 3
   },
   "file_extension": ".py",
   "mimetype": "text/x-python",
   "name": "python",
   "nbconvert_exporter": "python",
   "pygments_lexer": "ipython3",
   "version": "3.10.2"
  }
 },
 "nbformat": 4,
 "nbformat_minor": 5
}
