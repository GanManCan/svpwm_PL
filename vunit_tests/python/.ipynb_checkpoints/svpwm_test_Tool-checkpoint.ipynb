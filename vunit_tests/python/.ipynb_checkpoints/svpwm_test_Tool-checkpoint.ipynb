{
 "cells": [
  {
   "cell_type": "code",
   "execution_count": 1,
   "id": "7f536fcb",
   "metadata": {},
   "outputs": [],
   "source": [
    "import numpy as np\n",
    "import random\n",
    "import matplotlib.pyplot as plt"
   ]
  },
  {
   "cell_type": "code",
   "execution_count": null,
   "id": "6b51bde9",
   "metadata": {},
   "outputs": [],
   "source": []
  },
  {
   "cell_type": "code",
   "execution_count": 2,
   "id": "b60a4ebd",
   "metadata": {},
   "outputs": [],
   "source": [
    "def generate_random_inputs(ftg_value_count, T):\n",
    "    arr_temp = np.zeros((1,ftg_value_count))\n",
    "    "
   ]
  },
  {
   "cell_type": "code",
   "execution_count": 19,
   "id": "fb75fced",
   "metadata": {
    "scrolled": true
   },
   "outputs": [
    {
     "data": {
      "image/png": "[encoded data removed]",
      "text/plain": [
       "<Figure size 432x288 with 1 Axes>"
      ]
     },
     "metadata": {
      "needs_background": "light"
     },
     "output_type": "display_data"
    },
    {
     "name": "stdout",
     "output_type": "stream",
     "text": [
      "(996, 1)\n"
     ]
    }
   ],
   "source": [
    "val = 10\n",
    "arr_ftg_u = np.array([[val,val,val,val,val]])\n",
    "#arr_ftg_u = np.array([[40,40,40,40,190]])\n",
    "gate_u, gate_u_l, arr_counter, temp, temp = generate_test_array(arr_ftg_u, 200,50)\n",
    "\n",
    "plot_gate(gate_u, gate_u_l, arr_counter)\n",
    "\n",
    "print(np.transpose(gate_u).shape)\n",
    "\n",
    "#print(\"FTG U:\\t\\t\",arr_ftg_u)\n",
    "#print(\"Gate U:\\t\\t\", gate_u)\n",
    "#print(\"Gate U Lower:\\t\", gate_u_l)\n",
    "#print(\"Coutner:\\t\", arr_counter)\n"
   ]
  },
  {
   "cell_type": "code",
   "execution_count": 4,
   "id": "3b2a9d36",
   "metadata": {},
   "outputs": [],
   "source": [
    "def generate_test_array(arr_input, pwm_period, dead_time_setpoint):\n",
    "    input_ftg_count = arr_input.shape[1]\n",
    "    \n",
    "    total_steps = calc_steps_from_periods(input_ftg_count, pwm_period)\n",
    "    \n",
    "    arr_counter = generate_counter_array(input_ftg_count, pwm_period)\n",
    "    max_counter = np.max(arr_counter)\n",
    "    \n",
    "    gate_x       = np.zeros((1,total_steps), dtype=int)\n",
    "    gate_x_l     = np.zeros((1,total_steps), dtype=int)\n",
    "    # Value to compare locked in value\n",
    "    lock_ftg_out = np.zeros((1,total_steps), dtype=int)\n",
    "    # Random value except when ftg value is loaded\n",
    "    ftg_out      = np.random.uniform(-max_counter, max_counter, (1,total_steps)).astype(int)\n",
    "    \n",
    "    increment = 1 # equal to increment counter \n",
    "\n",
    "    ftg_index = -1 # initizlize to -1 to set for intial loop\n",
    "    \n",
    "    next_gate = 0\n",
    "    next_gate_l = 1\n",
    "    \n",
    "    # Loop throwgh each step\n",
    "    for index in range(total_steps-1):\n",
    "        \n",
    "        current_count = arr_counter[0,index]\n",
    "        if(current_count == 0 or current_count == max_counter):\n",
    "            ftg_index += 1  \n",
    "            ftg_out[0,index] = arr_input[0,ftg_index]\n",
    "        \n",
    "        gate_x[0,index] = next_gate\n",
    "        gate_x_l[0,index] = next_gate_l\n",
    "        \n",
    "        next_gate = 0\n",
    "        next_gate_l = 1\n",
    "        \n",
    "        lock_ftg_out[0,index] = arr_input[0,ftg_index]\n",
    "        \n",
    "        if(current_count > arr_input[0,ftg_index]):\n",
    "            #gate_x[0,index]=1\n",
    "            #gate_x_l[0,index]=0\n",
    "            next_gate = 1\n",
    "            next_gate_l = 0\n",
    "            \n",
    "       \n",
    "    set_dead_time =0\n",
    "    dead_time_count = 0\n",
    "    \n",
    "    # go through arrays and add dead times \n",
    "    for index in range(1,total_steps-1):\n",
    "        \n",
    "        current_gate = gate_x[0,index]\n",
    "        prev_gate = gate_x[0,index-1]\n",
    "        prev_gate_l = gate_x_l[0,index-1]\n",
    "        \n",
    "        if(set_dead_time == 1):\n",
    "            # Zero gates and increment dead time counter\n",
    "            gate_x[0,index] = 0\n",
    "            gate_x_l[0,index] = 0\n",
    "            \n",
    "            dead_time_count += 1\n",
    "            \n",
    "            if(dead_time_count >= dead_time_setpoint):\n",
    "                set_dead_time = 0 \n",
    "                dead_time_count = 0\n",
    "            \n",
    "        ## check that current gate does not equal prev gate and they are not in dead time\n",
    "        elif(current_gate != prev_gate and not(prev_gate_l==0 and prev_gate==0)):\n",
    "            set_dead_time = 1\n",
    "            gate_x[0,index] = 0\n",
    "            gate_x_l[0,index] = 0\n",
    "        \n",
    "    return gate_x, gate_x_l, arr_counter, ftg_out, lock_ftg_out\n",
    "            "
   ]
  },
  {
   "cell_type": "code",
   "execution_count": 5,
   "id": "bee82342",
   "metadata": {},
   "outputs": [],
   "source": [
    "def generate_text_file(arr_ftg_gates, pwm_period, dead_time_setpoint, filePath):\n",
    "    ### output text file in\n",
    "    #COL   0        1           2        3      4       5           6      7         8         9          10     11        12\n",
    "    #     ftg_u  lock_ftg_u  gate_u  gate_u_l  ftg_v  lock_ftg_v  gate_v  gate_v_l  ftg_w  lock_ftg_w  gate_w  gate_w_l  counter\n",
    "    \n",
    "    col_num = 13\n",
    "    \n",
    "    input_ftg_count = arr_ftg_gates.shape[1]\n",
    "    total_steps = calc_steps_from_periods(input_ftg_count, pwm_period)\n",
    "    #print(\"Total Steps: \", total_steps)\n",
    "    # Generate zero file\n",
    "    arr_output = np.zeros((total_steps,col_num), dtype=int)\n",
    "    \n",
    "    num_gates = arr_ftg_gates.shape[0]\n",
    "    \n",
    "    for index in range(num_gates):\n",
    "        \n",
    "        ftg_input = arr_ftg_gates[index,:].reshape((1,arr_ftg_gates.shape[1]))\n",
    "        \n",
    "        temp_gate_x,temp_gate_x_l,temp_arr_counter, temp_ftg, temp_lock_ftg = generate_test_array(ftg_input, pwm_period, dead_time_setpoint)\n",
    "        #print(\"Gate X Shape: \",temp_gate_x.shape)\n",
    "        arr_output[:, 4*index]   = np.transpose(temp_ftg[0,:])\n",
    "        arr_output[:, 4*index+1] = np.transpose(temp_lock_ftg[0,:])\n",
    "        arr_output[:, 4*index+2] = np.transpose(temp_gate_x[0,:])\n",
    "        arr_output[:, 4*index+3] = np.transpose(temp_gate_x_l[0,:])\n",
    "        \n",
    "        arr_output[:,col_num-1] = np.transpose(temp_arr_counter[0,:])\n",
    "        \n",
    "    \n",
    "    arr_output = arr_output[0:total_steps-1,:]\n",
    "    \n",
    "    np.savetxt(filePath, arr_output, fmt='%d')\n",
    "    \n",
    "    return arr_output\n",
    "    "
   ]
  },
  {
   "cell_type": "code",
   "execution_count": 6,
   "id": "999761ed",
   "metadata": {},
   "outputs": [],
   "source": [
    "def plot_gate(gate_x, gate_x_l, arr_counter):\n",
    "    \n",
    "    %matplotlib inline\n",
    "    \n",
    "    # Scale to fit on graph \n",
    "    scaled_gate_x = gate_x*np.max(arr_counter)\n",
    "    scaled_gate_x_l = gate_x_l*np.max(arr_counter)\n",
    "    \n",
    "    plt.plot(scaled_gate_x[0,:])\n",
    "    plt.plot(scaled_gate_x_l[0,:],'--')\n",
    "    plt.plot(arr_counter[0,:])\n",
    "    plt.show()\n",
    "    return"
   ]
  },
  {
   "cell_type": "code",
   "execution_count": 7,
   "id": "0309d9c6",
   "metadata": {},
   "outputs": [],
   "source": [
    "def generate_counter_array(input_ftg_count, pwm_period):\n",
    "    \n",
    "    total_steps = calc_steps_from_periods(input_ftg_count, pwm_period)\n",
    "    \n",
    "    temp_counter = np.zeros((1,total_steps),dtype=int)\n",
    "    \n",
    "    temp_vals = np.arange(pwm_period,dtype=int).reshape((1,pwm_period))\n",
    "    \n",
    "    for index in range(input_ftg_count):\n",
    "        start_index = (pwm_period-1)*index\n",
    "        end_index = (pwm_period-1)*index+pwm_period\n",
    "        \n",
    "        #if index is even increment, else decrement\n",
    "        if(index % 2 == 0):\n",
    "            temp_counter[:,start_index:end_index] = temp_vals \n",
    "        else:\n",
    "            temp_counter[:,start_index:end_index-1] = np.flip(temp_vals[:,1:pwm_period])\n",
    "            \n",
    "    return temp_counter\n",
    "    "
   ]
  },
  {
   "cell_type": "code",
   "execution_count": 8,
   "id": "a201384f",
   "metadata": {},
   "outputs": [],
   "source": [
    "def calc_steps_from_periods(ftg_count, pwm_period):\n",
    "    # If arr_input is odd, the arr size is one more for peak value\n",
    "    if(ftg_count % 2 == 1):\n",
    "        total_steps = ftg_count * (pwm_period-1) + 1\n",
    "    else:\n",
    "        total_steps = ftg_count * (pwm_period-1)\n",
    "    \n",
    "    return total_steps"
   ]
  },
  {
   "cell_type": "code",
   "execution_count": 9,
   "id": "94daaf1f",
   "metadata": {},
   "outputs": [
    {
     "name": "stdout",
     "output_type": "stream",
     "text": [
      "Period(T):  250\n",
      "Dead Time Clock Cycle Count:  40\n"
     ]
    }
   ],
   "source": [
    "file_path = 'svpwm_test_cases.txt'\n",
    "\n",
    "# Calculation constants \n",
    "sys_clk = 50_000_000 # in Hz\n",
    "pwm_freq = 100_000     # in Hz\n",
    "T = int(sys_clk/pwm_freq/2)\n",
    "Vdc = 200\n",
    "\n",
    "dead_time_ns = 800\n",
    "dead_time_cnt = int(sys_clk*dead_time_ns*1e-9)\n",
    "\n",
    "arr_ftg_u = np.array([[220,100,50]])\n",
    "arr_ftg_v = np.array([[100,100,100]])\n",
    "arr_ftg_w = np.array([[100,100,100]])\n",
    "arr_ftg_comb= np.vstack((arr_ftg_u, arr_ftg_v, arr_ftg_w))\n",
    "\n",
    "arr_text = generate_text_file(arr_ftg_comb, T, dead_time_cnt, file_path)\n",
    "\n",
    "print(\"Period(T): \", T)\n",
    "print(\"Dead Time Clock Cycle Count: \", dead_time_cnt)\n",
    "#print(arr_text)"
   ]
  },
  {
   "cell_type": "code",
   "execution_count": null,
   "id": "6c884929",
   "metadata": {},
   "outputs": [],
   "source": []
  },
  {
   "cell_type": "code",
   "execution_count": null,
   "id": "8e62719b",
   "metadata": {},
   "outputs": [],
   "source": []
  }
 ],
 "metadata": {
  "kernelspec": {
   "display_name": "Python 3 (ipykernel)",
   "language": "python",
   "name": "python3"
  },
  "language_info": {
   "codemirror_mode": {
    "name": "ipython",
    "version": 3
   },
   "file_extension": ".py",
   "mimetype": "text/x-python",
   "name": "python",
   "nbconvert_exporter": "python",
   "pygments_lexer": "ipython3",
   "version": "3.10.2"
  }
 },
 "nbformat": 4,
 "nbformat_minor": 5
}
