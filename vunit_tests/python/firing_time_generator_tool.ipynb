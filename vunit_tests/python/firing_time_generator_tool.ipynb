{
 "cells": [
  {
   "cell_type": "code",
   "execution_count": 2,
   "id": "5f7a56f3",
   "metadata": {},
   "outputs": [],
   "source": [
    "import numpy as np"
   ]
  },
  {
   "cell_type": "code",
   "execution_count": null,
   "id": "3ee652cd",
   "metadata": {},
   "outputs": [],
   "source": [
    "# Calculation constants Constants"
   ]
  },
  {
   "cell_type": "code",
   "execution_count": 3,
   "id": "95c6d337",
   "metadata": {},
   "outputs": [],
   "source": [
    "def ftg_calc(val1, val2):\n",
    "    newrow = [0, 0, 0, 0, 0]\n",
    "    newrow[0] = val1\n",
    "    newrow[1] = val2\n",
    "    return newrow\n",
    "    "
   ]
  },
  {
   "cell_type": "code",
   "execution_count": 4,
   "id": "ccba2f5e",
   "metadata": {},
   "outputs": [
    {
     "name": "stdout",
     "output_type": "stream",
     "text": [
      "[1, 2, 0, 0, 0]\n"
     ]
    }
   ],
   "source": [
    "print(ftg_calc(1,2))"
   ]
  },
  {
   "cell_type": "code",
   "execution_count": null,
   "id": "9d49b090",
   "metadata": {},
   "outputs": [],
   "source": []
  }
 ],
 "metadata": {
  "kernelspec": {
   "display_name": "Python 3 (ipykernel)",
   "language": "python",
   "name": "python3"
  },
  "language_info": {
   "codemirror_mode": {
    "name": "ipython",
    "version": 3
   },
   "file_extension": ".py",
   "mimetype": "text/x-python",
   "name": "python",
   "nbconvert_exporter": "python",
   "pygments_lexer": "ipython3",
   "version": "3.10.2"
  }
 },
 "nbformat": 4,
 "nbformat_minor": 5
}
